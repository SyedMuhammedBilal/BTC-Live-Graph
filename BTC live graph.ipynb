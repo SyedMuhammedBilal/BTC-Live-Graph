{
 "cells": [
  {
   "cell_type": "code",
   "execution_count": 6,
   "metadata": {
    "scrolled": false
   },
   "outputs": [
    {
     "name": "stdout",
     "output_type": "stream",
     "text": [
      "{'ticker': {'base': 'BTC', 'target': 'USD', 'price': '7905.96012785', 'volume': '103317.21914048', 'change': '71.79528923', 'markets': [{'market': 'Binance', 'price': '7891.31000000', 'volume': 52660.766392}, {'market': 'BitFinex', 'price': '7931.40000000', 'volume': 12191.2222037}, {'market': 'Bitstamp', 'price': '7920.00000000', 'volume': 8766.54584668}, {'market': 'Bittrex', 'price': '7935.46300000', 'volume': 826.47630186}, {'market': 'Bleutrade', 'price': '7800.00000000', 'volume': 0.25065588}, {'market': 'C-Cex', 'price': '8025.00000100', 'volume': 0.28732678}, {'market': 'Cex.io', 'price': '7981.10000000', 'volume': 282.44184503}, {'market': 'Coinbase Pro', 'price': '7918.14000000', 'volume': 17021.42264876}, {'market': 'Exmo', 'price': '7898.50000000', 'volume': 945.88952991}, {'market': 'Hitbtc', 'price': '7946.14483000', 'volume': 19.85907}, {'market': 'IncoreX', 'price': '7793.65000000', 'volume': 75.00559387}, {'market': 'Kraken', 'price': '7930.00000000', 'volume': 8745.16357865}, {'market': 'Livecoin', 'price': '7821.72013000', 'volume': 1174.05104978}, {'market': 'Poloniex', 'price': '7889.88954820', 'volume': 576.77309042}, {'market': 'YoBit', 'price': '7840.00000000', 'volume': 31.06400716}]}, 'timestamp': 1558648681, 'success': True, 'error': ''}\n"
     ]
    },
    {
     "data": {
      "text/html": [
       "<div>\n",
       "<style scoped>\n",
       "    .dataframe tbody tr th:only-of-type {\n",
       "        vertical-align: middle;\n",
       "    }\n",
       "\n",
       "    .dataframe tbody tr th {\n",
       "        vertical-align: top;\n",
       "    }\n",
       "\n",
       "    .dataframe thead th {\n",
       "        text-align: right;\n",
       "    }\n",
       "</style>\n",
       "<table border=\"1\" class=\"dataframe\">\n",
       "  <thead>\n",
       "    <tr style=\"text-align: right;\">\n",
       "      <th></th>\n",
       "      <th>ticker</th>\n",
       "      <th>timestamp</th>\n",
       "      <th>success</th>\n",
       "      <th>error</th>\n",
       "    </tr>\n",
       "  </thead>\n",
       "  <tbody>\n",
       "    <tr>\n",
       "      <th>base</th>\n",
       "      <td>BTC</td>\n",
       "      <td>1558648681</td>\n",
       "      <td>True</td>\n",
       "      <td></td>\n",
       "    </tr>\n",
       "    <tr>\n",
       "      <th>change</th>\n",
       "      <td>71.79528923</td>\n",
       "      <td>1558648681</td>\n",
       "      <td>True</td>\n",
       "      <td></td>\n",
       "    </tr>\n",
       "    <tr>\n",
       "      <th>markets</th>\n",
       "      <td>[{'market': 'Binance', 'price': '7891.31000000...</td>\n",
       "      <td>1558648681</td>\n",
       "      <td>True</td>\n",
       "      <td></td>\n",
       "    </tr>\n",
       "    <tr>\n",
       "      <th>price</th>\n",
       "      <td>7905.96012785</td>\n",
       "      <td>1558648681</td>\n",
       "      <td>True</td>\n",
       "      <td></td>\n",
       "    </tr>\n",
       "    <tr>\n",
       "      <th>target</th>\n",
       "      <td>USD</td>\n",
       "      <td>1558648681</td>\n",
       "      <td>True</td>\n",
       "      <td></td>\n",
       "    </tr>\n",
       "    <tr>\n",
       "      <th>volume</th>\n",
       "      <td>103317.21914048</td>\n",
       "      <td>1558648681</td>\n",
       "      <td>True</td>\n",
       "      <td></td>\n",
       "    </tr>\n",
       "  </tbody>\n",
       "</table>\n",
       "</div>"
      ],
      "text/plain": [
       "                                                    ticker   timestamp  \\\n",
       "base                                                   BTC  1558648681   \n",
       "change                                         71.79528923  1558648681   \n",
       "markets  [{'market': 'Binance', 'price': '7891.31000000...  1558648681   \n",
       "price                                        7905.96012785  1558648681   \n",
       "target                                                 USD  1558648681   \n",
       "volume                                     103317.21914048  1558648681   \n",
       "\n",
       "         success error  \n",
       "base        True        \n",
       "change      True        \n",
       "markets     True        \n",
       "price       True        \n",
       "target      True        \n",
       "volume      True        "
      ]
     },
     "execution_count": 6,
     "metadata": {},
     "output_type": "execute_result"
    }
   ],
   "source": [
    "import numpy as np\n",
    "import pandas as pd\n",
    "import requests\n",
    "import matplotlib.pyplot as plt\n",
    "getURL = requests.get('https://api.cryptonator.com/api/full/btc-usd').json()\n",
    "print(getURL)\n",
    "df1  = pd.DataFrame(getURL)\n",
    "df1"
   ]
  },
  {
   "cell_type": "code",
   "execution_count": 7,
   "metadata": {},
   "outputs": [
    {
     "name": "stdout",
     "output_type": "stream",
     "text": [
      "          market          price        volume\n",
      "0        Binance  7891.31000000  52660.766392\n",
      "1       BitFinex  7931.40000000  12191.222204\n",
      "2       Bitstamp  7920.00000000   8766.545847\n",
      "3        Bittrex  7935.46300000    826.476302\n",
      "4      Bleutrade  7800.00000000      0.250656\n",
      "5          C-Cex  8025.00000100      0.287327\n",
      "6         Cex.io  7981.10000000    282.441845\n",
      "7   Coinbase Pro  7918.14000000  17021.422649\n",
      "8           Exmo  7898.50000000    945.889530\n",
      "9         Hitbtc  7946.14483000     19.859070\n",
      "10       IncoreX  7793.65000000     75.005594\n",
      "11        Kraken  7930.00000000   8745.163579\n",
      "12      Livecoin  7821.72013000   1174.051050\n",
      "13      Poloniex  7889.88954820    576.773090\n",
      "14         YoBit  7840.00000000     31.064007\n",
      "<class 'pandas.core.frame.DataFrame'>\n"
     ]
    }
   ],
   "source": [
    "df_ticker = pd.DataFrame(df1['ticker']['markets'])\n",
    "print(df_ticker)\n",
    "print(type(df_ticker))\n"
   ]
  },
  {
   "cell_type": "code",
   "execution_count": 3,
   "metadata": {},
   "outputs": [],
   "source": [
    "price = df_ticker['price'].astype('float')\n",
    "mar = list(df_ticker['market'])\n",
    "price = list(price)\n",
    "vol = list(df_ticker['volume'])\n",
    "def plot_txt(text , x_val , y_val):\n",
    "    for t , x , y in zip(text[:] , x_val[:] , y_val[:]):\n",
    "        plt.annotate(t , xy = (x , y))\n",
    "    plt.grid(True)\n",
    "    plt.scatter(x_val , y_val)\n",
    "    plt.title('Arbitrage Finder')\n",
    "    plt.show()"
   ]
  },
  {
   "cell_type": "code",
   "execution_count": 4,
   "metadata": {},
   "outputs": [
    {
     "data": {
      "image/png": "[encoded data removed]",
      "text/plain": [
       "<Figure size 432x288 with 1 Axes>"
      ]
     },
     "metadata": {
      "needs_background": "light"
     },
     "output_type": "display_data"
    }
   ],
   "source": [
    "plot_txt(mar , price , vol)"
   ]
  },
  {
   "cell_type": "code",
   "execution_count": null,
   "metadata": {},
   "outputs": [],
   "source": []
  }
 ],
 "metadata": {
  "kernelspec": {
   "display_name": "Python 3",
   "language": "python",
   "name": "python3"
  },
  "language_info": {
   "codemirror_mode": {
    "name": "ipython",
    "version": 3
   },
   "file_extension": ".py",
   "mimetype": "text/x-python",
   "name": "python",
   "nbconvert_exporter": "python",
   "pygments_lexer": "ipython3",
   "version": "3.7.1"
  }
 },
 "nbformat": 4,
 "nbformat_minor": 2
}
